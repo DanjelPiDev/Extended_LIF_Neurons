{
  "cells": [
    {
      "cell_type": "markdown",
      "metadata": {
        "id": "view-in-github",
        "colab_type": "text"
      },
      "source": [
        "<a href=\"https://colab.research.google.com/github/DanjelPiDev/QLIF-Neurons/blob/main/notebooks/QLIF_quickstart.ipynb\" target=\"_parent\"><img src=\"https://colab.research.google.com/assets/colab-badge.svg\" alt=\"Open In Colab\"/></a>"
      ]
    },
    {
      "cell_type": "markdown",
      "id": "59477e5c",
      "metadata": {
        "id": "59477e5c"
      },
      "source": [
        "\n",
        "# QLIF Neurons - Quickstart Notebook\n",
        "\n",
        "This notebook gives you a minimal, runnable intro to your **Quantum-inspired LIF (QLIF)** neurons:\n",
        "- quick spike simulation\n",
        "- visualization of voltage + spikes\n",
        "- optional comparison to **Norse** LIF (if installed)\n",
        "\n",
        "> Works in Colab or locally. If you use Colab, upload your repo or `git clone` it first so the imports resolve.\n"
      ]
    },
    {
      "cell_type": "markdown",
      "id": "ec33d63e",
      "metadata": {
        "id": "ec33d63e"
      },
      "source": [
        "\n",
        "## 0) Setup (paths & optional installs)\n",
        "\n",
        "If you're on Colab:\n",
        "- `git clone` your repo\n",
        "- then set `REPO_DIR` accordingly below.\n",
        "\n",
        "If you want the Norse comparison and don't have it installed:\n",
        "```bash\n",
        "pip install norse\n",
        "pip install pennylane\n",
        "```\n"
      ]
    },
    {
      "cell_type": "code",
      "id": "92120db2",
      "metadata": {
        "id": "92120db2",
        "colab": {
          "base_uri": "https://localhost:8080/"
        },
        "outputId": "6eb1f1d2-92bf-4162-b6a9-e7800d6ac388"
      },
      "source": [
        "import sys, os\n",
        "from pathlib import Path\n",
        "\n",
        "REPO_DIR = Path(\"/content/QLIF-Neurons\").resolve()\n",
        "SRC_DIR = REPO_DIR / \"src\"\n",
        "\n",
        "if not REPO_DIR.exists():\n",
        "    !git clone https://github.com/DanjelPiDev/QLIF-Neurons.git /content/QLIF-Neurons\n",
        "    !pip install -r /content/QLIF-Neurons/requirements.txt\n",
        "\n",
        "if str(SRC_DIR) not in sys.path:\n",
        "    sys.path.insert(0, str(SRC_DIR))\n",
        "\n",
        "print(\"Repo:\", REPO_DIR)\n",
        "print(\"src on sys.path:\", SRC_DIR in map(Path, map(Path, sys.path)))"
      ],
      "outputs": [
        {
          "output_type": "stream",
          "name": "stdout",
          "text": [
            "Repo: /content/QLIF-Neurons\n",
            "src on sys.path: True\n"
          ]
        }
      ],
      "execution_count": 24
    },
    {
      "cell_type": "markdown",
      "id": "e6c7d1a0",
      "metadata": {
        "id": "e6c7d1a0"
      },
      "source": [
        "## 1) Imports"
      ]
    },
    {
      "cell_type": "code",
      "id": "94b2ccd5",
      "metadata": {
        "id": "94b2ccd5",
        "colab": {
          "base_uri": "https://localhost:8080/"
        },
        "outputId": "81a0974e-ca7d-4f8b-e817-7829e928b6a9"
      },
      "source": [
        "\n",
        "import numpy as np\n",
        "import torch\n",
        "import matplotlib.pyplot as plt\n",
        "\n",
        "try:\n",
        "    from qlif_layers.qlif_layer import QLIFLayer\n",
        "    print(\"Imported QLIFLayer\")\n",
        "except Exception as e:\n",
        "    print(\"QLIFLayer import failed:\", e)\n",
        "\n",
        "try:\n",
        "    from neurons.qlif import QLIF\n",
        "    print(\"Imported QLIF\")\n",
        "except Exception as e:\n",
        "    print(\"QLIF import failed:\", e)\n",
        "\n"
      ],
      "outputs": [
        {
          "output_type": "stream",
          "name": "stdout",
          "text": [
            "QLIFLayer import failed: No module named 'pennylane'\n",
            "QLIF import failed: No module named 'pennylane'\n"
          ]
        }
      ],
      "execution_count": 25
    },
    {
      "cell_type": "markdown",
      "id": "a64d5c2c",
      "metadata": {
        "id": "a64d5c2c"
      },
      "source": [
        "## 2) Helper: Generate an input current (ramp + noise)"
      ]
    },
    {
      "cell_type": "code",
      "id": "d48be8f9",
      "metadata": {
        "id": "d48be8f9"
      },
      "source": [
        "\n",
        "def generate_input(timesteps: int, batch_size: int, num_neurons: int, noise_level: float):\n",
        "    pad_left  = timesteps // 4\n",
        "    ramp_len  = timesteps // 2\n",
        "    pad_right = timesteps - pad_left - ramp_len\n",
        "\n",
        "    ramp = torch.linspace(0, 2, ramp_len).repeat(batch_size, num_neurons, 1).permute(2, 0, 1)\n",
        "    base = torch.cat([\n",
        "        torch.zeros(pad_left,  batch_size, num_neurons),\n",
        "        ramp,\n",
        "        torch.zeros(pad_right, batch_size, num_neurons)\n",
        "    ], dim=0)\n",
        "    noise = torch.randn(timesteps, batch_size, num_neurons) * noise_level\n",
        "    return (base + noise).float()\n"
      ],
      "outputs": [],
      "execution_count": 26
    },
    {
      "cell_type": "markdown",
      "id": "37526f35",
      "metadata": {
        "id": "37526f35"
      },
      "source": [
        "## 3) Minimal simulation (QLIFLayer)"
      ]
    },
    {
      "cell_type": "code",
      "id": "33f6d368",
      "metadata": {
        "id": "33f6d368",
        "colab": {
          "base_uri": "https://localhost:8080/"
        },
        "outputId": "befec531-3d70-421c-85f9-810e5c594988"
      },
      "source": [
        "\n",
        "timesteps = 200\n",
        "noise_level = 0.15\n",
        "\n",
        "# Change this four QLIF parameters here to adjust the input current:\n",
        "batch_size = 1\n",
        "num_neurons = 6\n",
        "device = \"cpu\"  # change to \"cuda\" if you want to use GPU\n",
        "use_quantum = False  # flip to False for classic\n",
        "\n",
        "I = generate_input(timesteps, batch_size, num_neurons, noise_level)\n",
        "ext_mod = None\n",
        "\n",
        "layer_cfg = dict(\n",
        "    num_neurons=num_neurons,\n",
        "    V_th=1.2,\n",
        "    V_reset=0.0,\n",
        "    tau=30.0,\n",
        "    dt=1.0,\n",
        "    eta=0.15,\n",
        "    use_adaptive_threshold=True,\n",
        "    noise_std=0.05,\n",
        "    stochastic=True,\n",
        "    min_threshold=0.5,\n",
        "    max_threshold=2.0,\n",
        "    batch_size=batch_size,\n",
        "    device=device,  # change to \"cuda\" if you want to use GPU\n",
        "    surrogate_gradient_function=\"heaviside\",\n",
        "    alpha=1.0,\n",
        "    allow_dynamic_spike_probability=True,\n",
        "    base_alpha=2.0,\n",
        "    tau_adapt=20.0,\n",
        "    adaptation_decay=0.9,\n",
        "    spike_increase=0.5,\n",
        "    depression_rate=0.1,\n",
        "    recovery_rate=0.05,\n",
        "    neuromod_transform=None,\n",
        "    neuromod_mode=\"gain\",\n",
        "    neuromod_strength=1.0,\n",
        "    learnable_threshold=True,\n",
        "    learnable_tau=False,\n",
        "    learnable_eta=False,\n",
        "    learnable_qscale=True,\n",
        "    learnable_qbias=True,\n",
        "    quantum_mode=use_quantum,\n",
        "    quantum_threshold=0.7,\n",
        "    quantum_leak=0.1,\n",
        "    quantum_wire=4\n",
        ")\n",
        "\n",
        "\n",
        "def run_with_layer():\n",
        "    lif = QLIFLayer(**layer_cfg)\n",
        "    lif.eval()\n",
        "    with torch.no_grad():\n",
        "        s, v = lif(I, ext_mod)\n",
        "    return s.squeeze().cpu().numpy(), v.squeeze().cpu().numpy(), I.squeeze().cpu().numpy()\n",
        "\n",
        "\n",
        "try:\n",
        "    spikes, volts, inp = run_with_layer()\n",
        "    print(\"Ran with QLIFLayer.\")\n",
        "except NameError:\n",
        "    print(\"QLIFLayer not available, will use step-by-step QLIF fallback.\")\n",
        "    spikes = volts = inp = None\n"
      ],
      "outputs": [
        {
          "output_type": "stream",
          "name": "stdout",
          "text": [
            "QLIFLayer not available, will use step-by-step QLIF fallback.\n"
          ]
        }
      ],
      "execution_count": 27
    },
    {
      "cell_type": "code",
      "id": "409016e0",
      "metadata": {
        "id": "409016e0",
        "colab": {
          "base_uri": "https://localhost:8080/",
          "height": 506
        },
        "outputId": "384cac69-fd56-4c98-832d-a81322726911"
      },
      "source": [
        "\n",
        "if spikes is None:\n",
        "    from neurons.qlif import QLIF\n",
        "\n",
        "    T, B, N = I.shape\n",
        "    neuron = QLIF(\n",
        "        num_neurons=N,\n",
        "        V_th=1.2, tau=30.0, device=device,\n",
        "        stochastic=True, noise_std=0.05,\n",
        "        use_adaptive_threshold=True,\n",
        "        quantum_mode=use_quantum, quantum_wire=4,\n",
        "        quantum_threshold=0.7, quantum_leak=0.1,\n",
        "    )\n",
        "    neuron.eval()\n",
        "\n",
        "    s_np = np.zeros((T, N), dtype=bool)\n",
        "    v_np = np.zeros((T, N), dtype=np.float32)\n",
        "    with torch.no_grad():\n",
        "        for t in range(T):\n",
        "            s_t = neuron(I[t], None)\n",
        "            s_np[t, :] = s_t.squeeze().cpu().numpy()\n",
        "            v_np[t, :] = neuron.V.squeeze().cpu().numpy()\n",
        "    spikes, volts, inp = s_np, v_np, I.squeeze().cpu().numpy()\n",
        "    print(\"Ran with QLIF step-by-step fallback.\")\n"
      ],
      "outputs": [
        {
          "output_type": "error",
          "ename": "ModuleNotFoundError",
          "evalue": "No module named 'pennylane'",
          "traceback": [
            "\u001b[0;31m---------------------------------------------------------------------------\u001b[0m",
            "\u001b[0;31mModuleNotFoundError\u001b[0m                       Traceback (most recent call last)",
            "\u001b[0;32m/tmp/ipython-input-1235062351.py\u001b[0m in \u001b[0;36m<cell line: 0>\u001b[0;34m()\u001b[0m\n\u001b[1;32m      1\u001b[0m \u001b[0;32mif\u001b[0m \u001b[0mspikes\u001b[0m \u001b[0;32mis\u001b[0m \u001b[0;32mNone\u001b[0m\u001b[0;34m:\u001b[0m\u001b[0;34m\u001b[0m\u001b[0;34m\u001b[0m\u001b[0m\n\u001b[0;32m----> 2\u001b[0;31m     \u001b[0;32mfrom\u001b[0m \u001b[0mneurons\u001b[0m\u001b[0;34m.\u001b[0m\u001b[0mqlif\u001b[0m \u001b[0;32mimport\u001b[0m \u001b[0mQLIF\u001b[0m\u001b[0;34m\u001b[0m\u001b[0;34m\u001b[0m\u001b[0m\n\u001b[0m\u001b[1;32m      3\u001b[0m \u001b[0;34m\u001b[0m\u001b[0m\n\u001b[1;32m      4\u001b[0m     \u001b[0mT\u001b[0m\u001b[0;34m,\u001b[0m \u001b[0mB\u001b[0m\u001b[0;34m,\u001b[0m \u001b[0mN\u001b[0m \u001b[0;34m=\u001b[0m \u001b[0mI\u001b[0m\u001b[0;34m.\u001b[0m\u001b[0mshape\u001b[0m\u001b[0;34m\u001b[0m\u001b[0;34m\u001b[0m\u001b[0m\n\u001b[1;32m      5\u001b[0m     neuron = QLIF(\n",
            "\u001b[0;32m/content/QLIF-Neurons/src/neurons/qlif.py\u001b[0m in \u001b[0;36m<module>\u001b[0;34m\u001b[0m\n\u001b[1;32m      1\u001b[0m \u001b[0;32mimport\u001b[0m \u001b[0mmath\u001b[0m\u001b[0;34m\u001b[0m\u001b[0;34m\u001b[0m\u001b[0m\n\u001b[1;32m      2\u001b[0m \u001b[0;34m\u001b[0m\u001b[0m\n\u001b[0;32m----> 3\u001b[0;31m \u001b[0;32mimport\u001b[0m \u001b[0mpennylane\u001b[0m \u001b[0;32mas\u001b[0m \u001b[0mqml\u001b[0m\u001b[0;34m\u001b[0m\u001b[0;34m\u001b[0m\u001b[0m\n\u001b[0m\u001b[1;32m      4\u001b[0m \u001b[0;32mimport\u001b[0m \u001b[0mtorch\u001b[0m\u001b[0;34m\u001b[0m\u001b[0;34m\u001b[0m\u001b[0m\n\u001b[1;32m      5\u001b[0m \u001b[0;32mimport\u001b[0m \u001b[0mtorch\u001b[0m\u001b[0;34m.\u001b[0m\u001b[0mnn\u001b[0m \u001b[0;32mas\u001b[0m \u001b[0mnn\u001b[0m\u001b[0;34m\u001b[0m\u001b[0;34m\u001b[0m\u001b[0m\n",
            "\u001b[0;31mModuleNotFoundError\u001b[0m: No module named 'pennylane'",
            "",
            "\u001b[0;31m---------------------------------------------------------------------------\u001b[0;32m\nNOTE: If your import is failing due to a missing package, you can\nmanually install dependencies using either !pip or !apt.\n\nTo view examples of installing some common dependencies, click the\n\"Open Examples\" button below.\n\u001b[0;31m---------------------------------------------------------------------------\u001b[0m\n"
          ],
          "errorDetails": {
            "actions": [
              {
                "action": "open_url",
                "actionText": "Open Examples",
                "url": "/notebooks/snippets/importing_libraries.ipynb"
              }
            ]
          }
        }
      ],
      "execution_count": 28
    },
    {
      "cell_type": "markdown",
      "id": "e1a1d15d",
      "metadata": {
        "id": "e1a1d15d"
      },
      "source": [
        "## 4) Plot voltage + spike raster"
      ]
    },
    {
      "cell_type": "code",
      "id": "abfc824e",
      "metadata": {
        "id": "abfc824e"
      },
      "source": [
        "\n",
        "T, N = spikes.shape\n",
        "\n",
        "fig = plt.figure(figsize=(9, 5), dpi=110)\n",
        "gs = fig.add_gridspec(2, 1, height_ratios=[2, 1], hspace=0.3)\n",
        "\n",
        "ax1 = fig.add_subplot(gs[0, 0])\n",
        "ax1.set_title(f\"QLIF ({'Quantum' if use_quantum else 'Classic'}) - V[0] & I[0]\")\n",
        "ax1.set_xlim(0, T)\n",
        "ax1.set_ylim(min(inp.min(), volts.min())-0.3, max(inp.max(), volts.max())+0.3)\n",
        "ax1.plot(np.arange(T), volts[:,0], label='V[0]')\n",
        "ax1.plot(np.arange(T), inp[:,0], '--', alpha=0.6, label='I[0]')\n",
        "ax1.grid(True, alpha=0.25); ax1.legend()\n",
        "\n",
        "ax2 = fig.add_subplot(gs[1, 0])\n",
        "ax2.set_title(\"Spike Grid\")\n",
        "ax2.set_xlim(0, T); ax2.set_ylim(-0.5, N-0.5)\n",
        "t_idx, n_idx = np.where(spikes)\n",
        "ax2.scatter(t_idx, n_idx, marker='|')\n",
        "ax2.set_xlabel(\"t\")\n",
        "ax2.set_yticks(range(N)); ax2.set_yticklabels([f\"n{j}\" for j in range(N)])\n",
        "ax2.grid(True, axis='x', alpha=0.2)\n",
        "plt.show()\n"
      ],
      "outputs": [],
      "execution_count": null
    },
    {
      "cell_type": "markdown",
      "id": "b673f570",
      "metadata": {
        "id": "b673f570"
      },
      "source": [
        "## 5) Optional: Compare with Norse LIF"
      ]
    },
    {
      "cell_type": "code",
      "id": "a909a9f2",
      "metadata": {
        "id": "a909a9f2"
      },
      "source": [
        "\n",
        "def simulate_norse_lif(I, device=\"cpu\"):\n",
        "    try:\n",
        "        from norse.torch.module.lif import LIFCell\n",
        "    except Exception as e:\n",
        "        print(\"Norse not available:\", e)\n",
        "        return None, None\n",
        "\n",
        "    T, B, N = I.shape\n",
        "    lif = LIFCell().to(device)\n",
        "    lif.eval()\n",
        "    s_np = np.zeros((T, N), dtype=bool)\n",
        "    v_np = np.zeros((T, N), dtype=np.float32)\n",
        "    state = None\n",
        "    with torch.no_grad():\n",
        "        for t in range(T):\n",
        "            z, state = lif(I[t].to(device), state)\n",
        "            v = getattr(state, \"v\", None)\n",
        "            s_np[t, :] = (z.squeeze().cpu().numpy() > 0.0)\n",
        "            v_np[t, :] = 0.0 if v is None else v.squeeze().cpu().numpy()\n",
        "    return s_np, v_np\n",
        "\n",
        "n_spikes, n_volts = simulate_norse_lif(I, device=device)\n",
        "if n_spikes is not None:\n",
        "    fig = plt.figure(figsize=(9, 6), dpi=110)\n",
        "    gs = fig.add_gridspec(2, 1, height_ratios=[2, 1], hspace=0.3)\n",
        "\n",
        "    ax1 = fig.add_subplot(gs[0, 0])\n",
        "    ax1.set_title(\"Norse LIF - V[0] & I[0]\")\n",
        "    ax1.set_xlim(0, T)\n",
        "    ax1.set_ylim(min(inp.min(), n_volts.min())-0.3, max(inp.max(), n_volts.max())+0.3)\n",
        "    ax1.plot(np.arange(T), n_volts[:,0], label='V[0]')\n",
        "    ax1.plot(np.arange(T), inp[:,0], '--', alpha=0.6, label='I[0]')\n",
        "    ax1.grid(True, alpha=0.25); ax1.legend()\n",
        "\n",
        "    ax2 = fig.add_subplot(gs[1, 0])\n",
        "    ax2.set_title(\"Norse Spike Grid\")\n",
        "    ax2.set_xlim(0, T); ax2.set_ylim(-0.5, N-0.5)\n",
        "    t_idx, n_idx = np.where(n_spikes)\n",
        "    ax2.scatter(t_idx, n_idx, marker='|')\n",
        "    ax2.set_xlabel(\"t\")\n",
        "    ax2.set_yticks(range(N)); ax2.set_yticklabels([f\"n{j}\" for j in range(N)])\n",
        "    ax2.grid(True, axis='x', alpha=0.2)\n",
        "    plt.show()\n",
        "else:\n",
        "    print(\"Skip Norse comparison (not installed).\")\n"
      ],
      "outputs": [],
      "execution_count": null
    }
  ],
  "metadata": {
    "colab": {
      "provenance": [],
      "include_colab_link": true
    },
    "language_info": {
      "name": "python"
    },
    "kernelspec": {
      "name": "python3",
      "display_name": "Python 3"
    }
  },
  "nbformat": 4,
  "nbformat_minor": 5
}