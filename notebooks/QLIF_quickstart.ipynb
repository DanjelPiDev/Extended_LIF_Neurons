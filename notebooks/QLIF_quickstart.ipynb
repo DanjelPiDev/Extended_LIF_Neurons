{
  "cells": [
    {
      "cell_type": "markdown",
      "metadata": {
        "id": "view-in-github",
        "colab_type": "text"
      },
      "source": [
        "<a href=\"https://colab.research.google.com/github/DanjelPiDev/QLIF-Neurons/blob/main/notebooks/QLIF_quickstart.ipynb\" target=\"_parent\"><img src=\"https://colab.research.google.com/assets/colab-badge.svg\" alt=\"Open In Colab\"/></a>"
      ]
    },
    {
      "cell_type": "markdown",
      "id": "59477e5c",
      "metadata": {
        "id": "59477e5c"
      },
      "source": [
        "\n",
        "# QLIF Neurons - Quickstart Notebook\n",
        "\n",
        "This notebook gives you a minimal, runnable intro to your **Quantum-inspired LIF (QLIF)** neurons:\n",
        "- quick spike simulation\n",
        "- visualization of voltage + spikes\n",
        "- optional comparison to **Norse** LIF (if installed)\n",
        "\n",
        "> Works in Colab or locally. If you use Colab, upload your repo or `git clone` it first so the imports resolve.\n"
      ]
    },
    {
      "cell_type": "markdown",
      "id": "ec33d63e",
      "metadata": {
        "id": "ec33d63e"
      },
      "source": [
        "\n",
        "## 0) Setup (paths & optional installs)\n",
        "\n",
        "If you're on Colab:\n",
        "- `git clone` your repo\n",
        "- then set `REPO_DIR` accordingly below.\n",
        "\n",
        "If you want the Norse comparison and don't have it installed:\n",
        "```bash\n",
        "pip install norse\n",
        "pip install pennylane\n",
        "```\n"
      ]
    },
    {
      "cell_type": "code",
      "id": "92120db2",
      "metadata": {
        "id": "92120db2",
        "colab": {
          "base_uri": "https://localhost:8080/",
          "height": 1000
        },
        "outputId": "6eaffb09-41ea-409e-97de-9d15d51ad95d"
      },
      "source": [
        "import sys, os\n",
        "from pathlib import Path\n",
        "\n",
        "REPO_DIR = Path(\"/content/QLIF-Neurons\").resolve()\n",
        "SRC_DIR = REPO_DIR / \"src\"\n",
        "\n",
        "if not REPO_DIR.exists():\n",
        "    !git clone https://github.com/DanjelPiDev/QLIF-Neurons.git /content/QLIF-Neurons\n",
        "\n",
        "!pip install -r /content/QLIF-Neurons/requirements.txt\n",
        "\n",
        "if str(SRC_DIR) not in sys.path:\n",
        "    sys.path.insert(0, str(SRC_DIR))\n",
        "\n",
        "print(\"Repo:\", REPO_DIR)\n",
        "print(\"src on sys.path:\", SRC_DIR in map(Path, map(Path, sys.path)))"
      ],
      "outputs": [
        {
          "output_type": "stream",
          "name": "stdout",
          "text": [
            "Collecting numpy==2.2.1 (from -r /content/QLIF-Neurons/requirements.txt (line 1))\n",
            "  Downloading numpy-2.2.1-cp311-cp311-manylinux_2_17_x86_64.manylinux2014_x86_64.whl.metadata (62 kB)\n",
            "\u001b[?25l     \u001b[90m━━━━━━━━━━━━━━━━━━━━━━━━━━━━━━━━━━━━━━━━\u001b[0m \u001b[32m0.0/62.0 kB\u001b[0m \u001b[31m?\u001b[0m eta \u001b[36m-:--:--\u001b[0m\r\u001b[2K     \u001b[91m━━━━━━━━━━━━━━━━━━━━━━━━━━━━━━━━━━━━━━━\u001b[0m\u001b[91m╸\u001b[0m \u001b[32m61.4/62.0 kB\u001b[0m \u001b[31m2.0 MB/s\u001b[0m eta \u001b[36m0:00:01\u001b[0m\r\u001b[2K     \u001b[90m━━━━━━━━━━━━━━━━━━━━━━━━━━━━━━━━━━━━━━━━\u001b[0m \u001b[32m62.0/62.0 kB\u001b[0m \u001b[31m1.4 MB/s\u001b[0m eta \u001b[36m0:00:00\u001b[0m\n",
            "\u001b[?25hRequirement already satisfied: setuptools==75.2.0 in /usr/local/lib/python3.11/dist-packages (from -r /content/QLIF-Neurons/requirements.txt (line 2)) (75.2.0)\n",
            "Collecting torchvision==0.22.0 (from -r /content/QLIF-Neurons/requirements.txt (line 3))\n",
            "  Downloading torchvision-0.22.0-cp311-cp311-manylinux_2_28_x86_64.whl.metadata (6.1 kB)\n",
            "Requirement already satisfied: torch>=2.6.0 in /usr/local/lib/python3.11/dist-packages (from -r /content/QLIF-Neurons/requirements.txt (line 4)) (2.6.0+cu124)\n",
            "Collecting pennylane (from -r /content/QLIF-Neurons/requirements.txt (line 5))\n",
            "  Downloading pennylane-0.42.2-py3-none-any.whl.metadata (11 kB)\n",
            "Collecting torch>=2.6.0 (from -r /content/QLIF-Neurons/requirements.txt (line 4))\n",
            "  Downloading torch-2.7.0-cp311-cp311-manylinux_2_28_x86_64.whl.metadata (29 kB)\n",
            "Requirement already satisfied: pillow!=8.3.*,>=5.3.0 in /usr/local/lib/python3.11/dist-packages (from torchvision==0.22.0->-r /content/QLIF-Neurons/requirements.txt (line 3)) (11.3.0)\n",
            "Requirement already satisfied: filelock in /usr/local/lib/python3.11/dist-packages (from torch>=2.6.0->-r /content/QLIF-Neurons/requirements.txt (line 4)) (3.18.0)\n",
            "Requirement already satisfied: typing-extensions>=4.10.0 in /usr/local/lib/python3.11/dist-packages (from torch>=2.6.0->-r /content/QLIF-Neurons/requirements.txt (line 4)) (4.14.1)\n",
            "Collecting sympy>=1.13.3 (from torch>=2.6.0->-r /content/QLIF-Neurons/requirements.txt (line 4))\n",
            "  Downloading sympy-1.14.0-py3-none-any.whl.metadata (12 kB)\n",
            "Requirement already satisfied: networkx in /usr/local/lib/python3.11/dist-packages (from torch>=2.6.0->-r /content/QLIF-Neurons/requirements.txt (line 4)) (3.5)\n",
            "Requirement already satisfied: jinja2 in /usr/local/lib/python3.11/dist-packages (from torch>=2.6.0->-r /content/QLIF-Neurons/requirements.txt (line 4)) (3.1.6)\n",
            "Requirement already satisfied: fsspec in /usr/local/lib/python3.11/dist-packages (from torch>=2.6.0->-r /content/QLIF-Neurons/requirements.txt (line 4)) (2025.3.0)\n",
            "Collecting nvidia-cuda-nvrtc-cu12==12.6.77 (from torch>=2.6.0->-r /content/QLIF-Neurons/requirements.txt (line 4))\n",
            "  Downloading nvidia_cuda_nvrtc_cu12-12.6.77-py3-none-manylinux2014_x86_64.whl.metadata (1.5 kB)\n",
            "Collecting nvidia-cuda-runtime-cu12==12.6.77 (from torch>=2.6.0->-r /content/QLIF-Neurons/requirements.txt (line 4))\n",
            "  Downloading nvidia_cuda_runtime_cu12-12.6.77-py3-none-manylinux2014_x86_64.manylinux_2_17_x86_64.whl.metadata (1.5 kB)\n",
            "Collecting nvidia-cuda-cupti-cu12==12.6.80 (from torch>=2.6.0->-r /content/QLIF-Neurons/requirements.txt (line 4))\n",
            "  Downloading nvidia_cuda_cupti_cu12-12.6.80-py3-none-manylinux2014_x86_64.manylinux_2_17_x86_64.whl.metadata (1.6 kB)\n",
            "Collecting nvidia-cudnn-cu12==9.5.1.17 (from torch>=2.6.0->-r /content/QLIF-Neurons/requirements.txt (line 4))\n",
            "  Downloading nvidia_cudnn_cu12-9.5.1.17-py3-none-manylinux_2_28_x86_64.whl.metadata (1.6 kB)\n",
            "Collecting nvidia-cublas-cu12==12.6.4.1 (from torch>=2.6.0->-r /content/QLIF-Neurons/requirements.txt (line 4))\n",
            "  Downloading nvidia_cublas_cu12-12.6.4.1-py3-none-manylinux2014_x86_64.manylinux_2_17_x86_64.whl.metadata (1.5 kB)\n",
            "Collecting nvidia-cufft-cu12==11.3.0.4 (from torch>=2.6.0->-r /content/QLIF-Neurons/requirements.txt (line 4))\n",
            "  Downloading nvidia_cufft_cu12-11.3.0.4-py3-none-manylinux2014_x86_64.manylinux_2_17_x86_64.whl.metadata (1.5 kB)\n",
            "Collecting nvidia-curand-cu12==10.3.7.77 (from torch>=2.6.0->-r /content/QLIF-Neurons/requirements.txt (line 4))\n",
            "  Downloading nvidia_curand_cu12-10.3.7.77-py3-none-manylinux2014_x86_64.manylinux_2_17_x86_64.whl.metadata (1.5 kB)\n",
            "Collecting nvidia-cusolver-cu12==11.7.1.2 (from torch>=2.6.0->-r /content/QLIF-Neurons/requirements.txt (line 4))\n",
            "  Downloading nvidia_cusolver_cu12-11.7.1.2-py3-none-manylinux2014_x86_64.manylinux_2_17_x86_64.whl.metadata (1.6 kB)\n",
            "Collecting nvidia-cusparse-cu12==12.5.4.2 (from torch>=2.6.0->-r /content/QLIF-Neurons/requirements.txt (line 4))\n",
            "  Downloading nvidia_cusparse_cu12-12.5.4.2-py3-none-manylinux2014_x86_64.manylinux_2_17_x86_64.whl.metadata (1.6 kB)\n",
            "Collecting nvidia-cusparselt-cu12==0.6.3 (from torch>=2.6.0->-r /content/QLIF-Neurons/requirements.txt (line 4))\n",
            "  Downloading nvidia_cusparselt_cu12-0.6.3-py3-none-manylinux2014_x86_64.whl.metadata (6.8 kB)\n",
            "Collecting nvidia-nccl-cu12==2.26.2 (from torch>=2.6.0->-r /content/QLIF-Neurons/requirements.txt (line 4))\n",
            "  Downloading nvidia_nccl_cu12-2.26.2-py3-none-manylinux2014_x86_64.manylinux_2_17_x86_64.whl.metadata (2.0 kB)\n",
            "Collecting nvidia-nvtx-cu12==12.6.77 (from torch>=2.6.0->-r /content/QLIF-Neurons/requirements.txt (line 4))\n",
            "  Downloading nvidia_nvtx_cu12-12.6.77-py3-none-manylinux2014_x86_64.manylinux_2_17_x86_64.whl.metadata (1.6 kB)\n",
            "Collecting nvidia-nvjitlink-cu12==12.6.85 (from torch>=2.6.0->-r /content/QLIF-Neurons/requirements.txt (line 4))\n",
            "  Downloading nvidia_nvjitlink_cu12-12.6.85-py3-none-manylinux2010_x86_64.manylinux_2_12_x86_64.whl.metadata (1.5 kB)\n",
            "Collecting nvidia-cufile-cu12==1.11.1.6 (from torch>=2.6.0->-r /content/QLIF-Neurons/requirements.txt (line 4))\n",
            "  Downloading nvidia_cufile_cu12-1.11.1.6-py3-none-manylinux2014_x86_64.manylinux_2_17_x86_64.whl.metadata (1.5 kB)\n",
            "Collecting triton==3.3.0 (from torch>=2.6.0->-r /content/QLIF-Neurons/requirements.txt (line 4))\n",
            "  Downloading triton-3.3.0-cp311-cp311-manylinux_2_27_x86_64.manylinux_2_28_x86_64.whl.metadata (1.5 kB)\n",
            "Requirement already satisfied: scipy in /usr/local/lib/python3.11/dist-packages (from pennylane->-r /content/QLIF-Neurons/requirements.txt (line 5)) (1.16.1)\n",
            "Collecting rustworkx>=0.14.0 (from pennylane->-r /content/QLIF-Neurons/requirements.txt (line 5))\n",
            "  Downloading rustworkx-0.16.0-cp39-abi3-manylinux_2_17_x86_64.manylinux2014_x86_64.whl.metadata (10 kB)\n",
            "Requirement already satisfied: autograd in /usr/local/lib/python3.11/dist-packages (from pennylane->-r /content/QLIF-Neurons/requirements.txt (line 5)) (1.8.0)\n",
            "Collecting appdirs (from pennylane->-r /content/QLIF-Neurons/requirements.txt (line 5))\n",
            "  Downloading appdirs-1.4.4-py2.py3-none-any.whl.metadata (9.0 kB)\n",
            "Collecting autoray>=0.6.11 (from pennylane->-r /content/QLIF-Neurons/requirements.txt (line 5))\n",
            "  Downloading autoray-0.7.2-py3-none-any.whl.metadata (5.8 kB)\n",
            "Requirement already satisfied: cachetools in /usr/local/lib/python3.11/dist-packages (from pennylane->-r /content/QLIF-Neurons/requirements.txt (line 5)) (5.5.2)\n",
            "Collecting pennylane-lightning>=0.42 (from pennylane->-r /content/QLIF-Neurons/requirements.txt (line 5))\n",
            "  Downloading pennylane_lightning-0.42.0-cp311-cp311-manylinux_2_28_x86_64.whl.metadata (11 kB)\n",
            "Requirement already satisfied: requests in /usr/local/lib/python3.11/dist-packages (from pennylane->-r /content/QLIF-Neurons/requirements.txt (line 5)) (2.32.3)\n",
            "Requirement already satisfied: tomlkit in /usr/local/lib/python3.11/dist-packages (from pennylane->-r /content/QLIF-Neurons/requirements.txt (line 5)) (0.13.3)\n",
            "Requirement already satisfied: packaging in /usr/local/lib/python3.11/dist-packages (from pennylane->-r /content/QLIF-Neurons/requirements.txt (line 5)) (25.0)\n",
            "Collecting diastatic-malt (from pennylane->-r /content/QLIF-Neurons/requirements.txt (line 5))\n",
            "  Downloading diastatic_malt-2.15.2-py3-none-any.whl.metadata (2.6 kB)\n",
            "Collecting scipy-openblas32>=0.3.26 (from pennylane-lightning>=0.42->pennylane->-r /content/QLIF-Neurons/requirements.txt (line 5))\n",
            "  Downloading scipy_openblas32-0.3.30.0.2-py3-none-manylinux2014_x86_64.manylinux_2_17_x86_64.whl.metadata (57 kB)\n",
            "\u001b[2K     \u001b[90m━━━━━━━━━━━━━━━━━━━━━━━━━━━━━━━━━━━━━━━━\u001b[0m \u001b[32m57.1/57.1 kB\u001b[0m \u001b[31m4.3 MB/s\u001b[0m eta \u001b[36m0:00:00\u001b[0m\n",
            "\u001b[?25hRequirement already satisfied: mpmath<1.4,>=1.1.0 in /usr/local/lib/python3.11/dist-packages (from sympy>=1.13.3->torch>=2.6.0->-r /content/QLIF-Neurons/requirements.txt (line 4)) (1.3.0)\n",
            "Requirement already satisfied: astunparse in /usr/local/lib/python3.11/dist-packages (from diastatic-malt->pennylane->-r /content/QLIF-Neurons/requirements.txt (line 5)) (1.6.3)\n",
            "Requirement already satisfied: gast in /usr/local/lib/python3.11/dist-packages (from diastatic-malt->pennylane->-r /content/QLIF-Neurons/requirements.txt (line 5)) (0.6.0)\n",
            "Requirement already satisfied: termcolor in /usr/local/lib/python3.11/dist-packages (from diastatic-malt->pennylane->-r /content/QLIF-Neurons/requirements.txt (line 5)) (3.1.0)\n",
            "Requirement already satisfied: MarkupSafe>=2.0 in /usr/local/lib/python3.11/dist-packages (from jinja2->torch>=2.6.0->-r /content/QLIF-Neurons/requirements.txt (line 4)) (3.0.2)\n",
            "Requirement already satisfied: charset-normalizer<4,>=2 in /usr/local/lib/python3.11/dist-packages (from requests->pennylane->-r /content/QLIF-Neurons/requirements.txt (line 5)) (3.4.2)\n",
            "Requirement already satisfied: idna<4,>=2.5 in /usr/local/lib/python3.11/dist-packages (from requests->pennylane->-r /content/QLIF-Neurons/requirements.txt (line 5)) (3.10)\n",
            "Requirement already satisfied: urllib3<3,>=1.21.1 in /usr/local/lib/python3.11/dist-packages (from requests->pennylane->-r /content/QLIF-Neurons/requirements.txt (line 5)) (2.5.0)\n",
            "Requirement already satisfied: certifi>=2017.4.17 in /usr/local/lib/python3.11/dist-packages (from requests->pennylane->-r /content/QLIF-Neurons/requirements.txt (line 5)) (2025.8.3)\n",
            "Requirement already satisfied: wheel<1.0,>=0.23.0 in /usr/local/lib/python3.11/dist-packages (from astunparse->diastatic-malt->pennylane->-r /content/QLIF-Neurons/requirements.txt (line 5)) (0.45.1)\n",
            "Requirement already satisfied: six<2.0,>=1.6.1 in /usr/local/lib/python3.11/dist-packages (from astunparse->diastatic-malt->pennylane->-r /content/QLIF-Neurons/requirements.txt (line 5)) (1.17.0)\n",
            "Downloading numpy-2.2.1-cp311-cp311-manylinux_2_17_x86_64.manylinux2014_x86_64.whl (16.4 MB)\n",
            "\u001b[2K   \u001b[90m━━━━━━━━━━━━━━━━━━━━━━━━━━━━━━━━━━━━━━━━\u001b[0m \u001b[32m16.4/16.4 MB\u001b[0m \u001b[31m86.3 MB/s\u001b[0m eta \u001b[36m0:00:00\u001b[0m\n",
            "\u001b[?25hDownloading torchvision-0.22.0-cp311-cp311-manylinux_2_28_x86_64.whl (7.4 MB)\n",
            "\u001b[2K   \u001b[90m━━━━━━━━━━━━━━━━━━━━━━━━━━━━━━━━━━━━━━━━\u001b[0m \u001b[32m7.4/7.4 MB\u001b[0m \u001b[31m77.8 MB/s\u001b[0m eta \u001b[36m0:00:00\u001b[0m\n",
            "\u001b[?25hDownloading torch-2.7.0-cp311-cp311-manylinux_2_28_x86_64.whl (865.2 MB)\n",
            "\u001b[2K   \u001b[90m━━━━━━━━━━━━━━━━━━━━━━━━━━━━━━━━━━━━━━━━\u001b[0m \u001b[32m865.2/865.2 MB\u001b[0m \u001b[31m2.1 MB/s\u001b[0m eta \u001b[36m0:00:00\u001b[0m\n",
            "\u001b[?25hDownloading nvidia_cublas_cu12-12.6.4.1-py3-none-manylinux2014_x86_64.manylinux_2_17_x86_64.whl (393.1 MB)\n",
            "\u001b[2K   \u001b[90m━━━━━━━━━━━━━━━━━━━━━━━━━━━━━━━━━━━━━━━━\u001b[0m \u001b[32m393.1/393.1 MB\u001b[0m \u001b[31m1.6 MB/s\u001b[0m eta \u001b[36m0:00:00\u001b[0m\n",
            "\u001b[?25hDownloading nvidia_cuda_cupti_cu12-12.6.80-py3-none-manylinux2014_x86_64.manylinux_2_17_x86_64.whl (8.9 MB)\n",
            "\u001b[2K   \u001b[90m━━━━━━━━━━━━━━━━━━━━━━━━━━━━━━━━━━━━━━━━\u001b[0m \u001b[32m8.9/8.9 MB\u001b[0m \u001b[31m95.3 MB/s\u001b[0m eta \u001b[36m0:00:00\u001b[0m\n",
            "\u001b[?25hDownloading nvidia_cuda_nvrtc_cu12-12.6.77-py3-none-manylinux2014_x86_64.whl (23.7 MB)\n",
            "\u001b[2K   \u001b[90m━━━━━━━━━━━━━━━━━━━━━━━━━━━━━━━━━━━━━━━━\u001b[0m \u001b[32m23.7/23.7 MB\u001b[0m \u001b[31m63.0 MB/s\u001b[0m eta \u001b[36m0:00:00\u001b[0m\n",
            "\u001b[?25hDownloading nvidia_cuda_runtime_cu12-12.6.77-py3-none-manylinux2014_x86_64.manylinux_2_17_x86_64.whl (897 kB)\n",
            "\u001b[2K   \u001b[90m━━━━━━━━━━━━━━━━━━━━━━━━━━━━━━━━━━━━━━━━\u001b[0m \u001b[32m897.7/897.7 kB\u001b[0m \u001b[31m53.5 MB/s\u001b[0m eta \u001b[36m0:00:00\u001b[0m\n",
            "\u001b[?25hDownloading nvidia_cudnn_cu12-9.5.1.17-py3-none-manylinux_2_28_x86_64.whl (571.0 MB)\n",
            "\u001b[2K   \u001b[90m━━━━━━━━━━━━━━━━━━━━━━━━━━━━━━━━━━━━━━━━\u001b[0m \u001b[32m571.0/571.0 MB\u001b[0m \u001b[31m3.0 MB/s\u001b[0m eta \u001b[36m0:00:00\u001b[0m\n",
            "\u001b[?25hDownloading nvidia_cufft_cu12-11.3.0.4-py3-none-manylinux2014_x86_64.manylinux_2_17_x86_64.whl (200.2 MB)\n",
            "\u001b[2K   \u001b[90m━━━━━━━━━━━━━━━━━━━━━━━━━━━━━━━━━━━━━━━━\u001b[0m \u001b[32m200.2/200.2 MB\u001b[0m \u001b[31m6.3 MB/s\u001b[0m eta \u001b[36m0:00:00\u001b[0m\n",
            "\u001b[?25hDownloading nvidia_cufile_cu12-1.11.1.6-py3-none-manylinux2014_x86_64.manylinux_2_17_x86_64.whl (1.1 MB)\n",
            "\u001b[2K   \u001b[90m━━━━━━━━━━━━━━━━━━━━━━━━━━━━━━━━━━━━━━━━\u001b[0m \u001b[32m1.1/1.1 MB\u001b[0m \u001b[31m66.1 MB/s\u001b[0m eta \u001b[36m0:00:00\u001b[0m\n",
            "\u001b[?25hDownloading nvidia_curand_cu12-10.3.7.77-py3-none-manylinux2014_x86_64.manylinux_2_17_x86_64.whl (56.3 MB)\n",
            "\u001b[2K   \u001b[90m━━━━━━━━━━━━━━━━━━━━━━━━━━━━━━━━━━━━━━━━\u001b[0m \u001b[32m56.3/56.3 MB\u001b[0m \u001b[31m11.0 MB/s\u001b[0m eta \u001b[36m0:00:00\u001b[0m\n",
            "\u001b[?25hDownloading nvidia_cusolver_cu12-11.7.1.2-py3-none-manylinux2014_x86_64.manylinux_2_17_x86_64.whl (158.2 MB)\n",
            "\u001b[2K   \u001b[90m━━━━━━━━━━━━━━━━━━━━━━━━━━━━━━━━━━━━━━━━\u001b[0m \u001b[32m158.2/158.2 MB\u001b[0m \u001b[31m6.3 MB/s\u001b[0m eta \u001b[36m0:00:00\u001b[0m\n",
            "\u001b[?25hDownloading nvidia_cusparse_cu12-12.5.4.2-py3-none-manylinux2014_x86_64.manylinux_2_17_x86_64.whl (216.6 MB)\n",
            "\u001b[2K   \u001b[90m━━━━━━━━━━━━━━━━━━━━━━━━━━━━━━━━━━━━━━━━\u001b[0m \u001b[32m216.6/216.6 MB\u001b[0m \u001b[31m4.9 MB/s\u001b[0m eta \u001b[36m0:00:00\u001b[0m\n",
            "\u001b[?25hDownloading nvidia_cusparselt_cu12-0.6.3-py3-none-manylinux2014_x86_64.whl (156.8 MB)\n",
            "\u001b[2K   \u001b[90m━━━━━━━━━━━━━━━━━━━━━━━━━━━━━━━━━━━━━━━━\u001b[0m \u001b[32m156.8/156.8 MB\u001b[0m \u001b[31m7.6 MB/s\u001b[0m eta \u001b[36m0:00:00\u001b[0m\n",
            "\u001b[?25hDownloading nvidia_nccl_cu12-2.26.2-py3-none-manylinux2014_x86_64.manylinux_2_17_x86_64.whl (201.3 MB)\n",
            "\u001b[2K   \u001b[90m━━━━━━━━━━━━━━━━━━━━━━━━━━━━━━━━━━━━━━━━\u001b[0m \u001b[32m201.3/201.3 MB\u001b[0m \u001b[31m6.6 MB/s\u001b[0m eta \u001b[36m0:00:00\u001b[0m\n",
            "\u001b[?25hDownloading nvidia_nvjitlink_cu12-12.6.85-py3-none-manylinux2010_x86_64.manylinux_2_12_x86_64.whl (19.7 MB)\n",
            "\u001b[2K   \u001b[90m━━━━━━━━━━━━━━━━━━━━━━━━━━━━━━━━━━━━━━━━\u001b[0m \u001b[32m19.7/19.7 MB\u001b[0m \u001b[31m82.9 MB/s\u001b[0m eta \u001b[36m0:00:00\u001b[0m\n",
            "\u001b[?25hDownloading nvidia_nvtx_cu12-12.6.77-py3-none-manylinux2014_x86_64.manylinux_2_17_x86_64.whl (89 kB)\n",
            "\u001b[2K   \u001b[90m━━━━━━━━━━━━━━━━━━━━━━━━━━━━━━━━━━━━━━━━\u001b[0m \u001b[32m89.3/89.3 kB\u001b[0m \u001b[31m9.2 MB/s\u001b[0m eta \u001b[36m0:00:00\u001b[0m\n",
            "\u001b[?25hDownloading triton-3.3.0-cp311-cp311-manylinux_2_27_x86_64.manylinux_2_28_x86_64.whl (156.5 MB)\n",
            "\u001b[2K   \u001b[90m━━━━━━━━━━━━━━━━━━━━━━━━━━━━━━━━━━━━━━━━\u001b[0m \u001b[32m156.5/156.5 MB\u001b[0m \u001b[31m5.6 MB/s\u001b[0m eta \u001b[36m0:00:00\u001b[0m\n",
            "\u001b[?25hDownloading pennylane-0.42.2-py3-none-any.whl (4.8 MB)\n",
            "\u001b[2K   \u001b[90m━━━━━━━━━━━━━━━━━━━━━━━━━━━━━━━━━━━━━━━━\u001b[0m \u001b[32m4.8/4.8 MB\u001b[0m \u001b[31m21.0 MB/s\u001b[0m eta \u001b[36m0:00:00\u001b[0m\n",
            "\u001b[?25hDownloading autoray-0.7.2-py3-none-any.whl (930 kB)\n",
            "\u001b[2K   \u001b[90m━━━━━━━━━━━━━━━━━━━━━━━━━━━━━━━━━━━━━━━━\u001b[0m \u001b[32m930.8/930.8 kB\u001b[0m \u001b[31m20.4 MB/s\u001b[0m eta \u001b[36m0:00:00\u001b[0m\n",
            "\u001b[?25hDownloading pennylane_lightning-0.42.0-cp311-cp311-manylinux_2_28_x86_64.whl (2.6 MB)\n",
            "\u001b[2K   \u001b[90m━━━━━━━━━━━━━━━━━━━━━━━━━━━━━━━━━━━━━━━━\u001b[0m \u001b[32m2.6/2.6 MB\u001b[0m \u001b[31m26.5 MB/s\u001b[0m eta \u001b[36m0:00:00\u001b[0m\n",
            "\u001b[?25hDownloading rustworkx-0.16.0-cp39-abi3-manylinux_2_17_x86_64.manylinux2014_x86_64.whl (2.1 MB)\n",
            "\u001b[2K   \u001b[90m━━━━━━━━━━━━━━━━━━━━━━━━━━━━━━━━━━━━━━━━\u001b[0m \u001b[32m2.1/2.1 MB\u001b[0m \u001b[31m35.4 MB/s\u001b[0m eta \u001b[36m0:00:00\u001b[0m\n",
            "\u001b[?25hDownloading sympy-1.14.0-py3-none-any.whl (6.3 MB)\n",
            "\u001b[2K   \u001b[90m━━━━━━━━━━━━━━━━━━━━━━━━━━━━━━━━━━━━━━━━\u001b[0m \u001b[32m6.3/6.3 MB\u001b[0m \u001b[31m36.0 MB/s\u001b[0m eta \u001b[36m0:00:00\u001b[0m\n",
            "\u001b[?25hDownloading appdirs-1.4.4-py2.py3-none-any.whl (9.6 kB)\n",
            "Downloading diastatic_malt-2.15.2-py3-none-any.whl (167 kB)\n",
            "\u001b[2K   \u001b[90m━━━━━━━━━━━━━━━━━━━━━━━━━━━━━━━━━━━━━━━━\u001b[0m \u001b[32m167.9/167.9 kB\u001b[0m \u001b[31m6.9 MB/s\u001b[0m eta \u001b[36m0:00:00\u001b[0m\n",
            "\u001b[?25hDownloading scipy_openblas32-0.3.30.0.2-py3-none-manylinux2014_x86_64.manylinux_2_17_x86_64.whl (8.6 MB)\n",
            "\u001b[2K   \u001b[90m━━━━━━━━━━━━━━━━━━━━━━━━━━━━━━━━━━━━━━━━\u001b[0m \u001b[32m8.6/8.6 MB\u001b[0m \u001b[31m29.5 MB/s\u001b[0m eta \u001b[36m0:00:00\u001b[0m\n",
            "\u001b[?25hInstalling collected packages: nvidia-cusparselt-cu12, appdirs, triton, sympy, scipy-openblas32, nvidia-nvtx-cu12, nvidia-nvjitlink-cu12, nvidia-nccl-cu12, nvidia-curand-cu12, nvidia-cufile-cu12, nvidia-cuda-runtime-cu12, nvidia-cuda-nvrtc-cu12, nvidia-cuda-cupti-cu12, nvidia-cublas-cu12, numpy, autoray, rustworkx, nvidia-cusparse-cu12, nvidia-cufft-cu12, nvidia-cudnn-cu12, diastatic-malt, nvidia-cusolver-cu12, torch, torchvision, pennylane-lightning, pennylane\n",
            "  Attempting uninstall: nvidia-cusparselt-cu12\n",
            "    Found existing installation: nvidia-cusparselt-cu12 0.6.2\n",
            "    Uninstalling nvidia-cusparselt-cu12-0.6.2:\n",
            "      Successfully uninstalled nvidia-cusparselt-cu12-0.6.2\n",
            "  Attempting uninstall: triton\n",
            "    Found existing installation: triton 3.2.0\n",
            "    Uninstalling triton-3.2.0:\n",
            "      Successfully uninstalled triton-3.2.0\n",
            "  Attempting uninstall: sympy\n",
            "    Found existing installation: sympy 1.13.1\n",
            "    Uninstalling sympy-1.13.1:\n",
            "      Successfully uninstalled sympy-1.13.1\n",
            "  Attempting uninstall: nvidia-nvtx-cu12\n",
            "    Found existing installation: nvidia-nvtx-cu12 12.4.127\n",
            "    Uninstalling nvidia-nvtx-cu12-12.4.127:\n",
            "      Successfully uninstalled nvidia-nvtx-cu12-12.4.127\n",
            "  Attempting uninstall: nvidia-nvjitlink-cu12\n",
            "    Found existing installation: nvidia-nvjitlink-cu12 12.5.82\n",
            "    Uninstalling nvidia-nvjitlink-cu12-12.5.82:\n",
            "      Successfully uninstalled nvidia-nvjitlink-cu12-12.5.82\n",
            "  Attempting uninstall: nvidia-nccl-cu12\n",
            "    Found existing installation: nvidia-nccl-cu12 2.23.4\n",
            "    Uninstalling nvidia-nccl-cu12-2.23.4:\n",
            "      Successfully uninstalled nvidia-nccl-cu12-2.23.4\n",
            "  Attempting uninstall: nvidia-curand-cu12\n",
            "    Found existing installation: nvidia-curand-cu12 10.3.6.82\n",
            "    Uninstalling nvidia-curand-cu12-10.3.6.82:\n",
            "      Successfully uninstalled nvidia-curand-cu12-10.3.6.82\n",
            "  Attempting uninstall: nvidia-cuda-runtime-cu12\n",
            "    Found existing installation: nvidia-cuda-runtime-cu12 12.5.82\n",
            "    Uninstalling nvidia-cuda-runtime-cu12-12.5.82:\n",
            "      Successfully uninstalled nvidia-cuda-runtime-cu12-12.5.82\n",
            "  Attempting uninstall: nvidia-cuda-nvrtc-cu12\n",
            "    Found existing installation: nvidia-cuda-nvrtc-cu12 12.5.82\n",
            "    Uninstalling nvidia-cuda-nvrtc-cu12-12.5.82:\n",
            "      Successfully uninstalled nvidia-cuda-nvrtc-cu12-12.5.82\n",
            "  Attempting uninstall: nvidia-cuda-cupti-cu12\n",
            "    Found existing installation: nvidia-cuda-cupti-cu12 12.5.82\n",
            "    Uninstalling nvidia-cuda-cupti-cu12-12.5.82:\n",
            "      Successfully uninstalled nvidia-cuda-cupti-cu12-12.5.82\n",
            "  Attempting uninstall: nvidia-cublas-cu12\n",
            "    Found existing installation: nvidia-cublas-cu12 12.5.3.2\n",
            "    Uninstalling nvidia-cublas-cu12-12.5.3.2:\n",
            "      Successfully uninstalled nvidia-cublas-cu12-12.5.3.2\n",
            "  Attempting uninstall: numpy\n",
            "    Found existing installation: numpy 2.0.2\n",
            "    Uninstalling numpy-2.0.2:\n",
            "      Successfully uninstalled numpy-2.0.2\n",
            "  Attempting uninstall: nvidia-cusparse-cu12\n",
            "    Found existing installation: nvidia-cusparse-cu12 12.5.1.3\n",
            "    Uninstalling nvidia-cusparse-cu12-12.5.1.3:\n",
            "      Successfully uninstalled nvidia-cusparse-cu12-12.5.1.3\n",
            "  Attempting uninstall: nvidia-cufft-cu12\n",
            "    Found existing installation: nvidia-cufft-cu12 11.2.3.61\n",
            "    Uninstalling nvidia-cufft-cu12-11.2.3.61:\n",
            "      Successfully uninstalled nvidia-cufft-cu12-11.2.3.61\n",
            "  Attempting uninstall: nvidia-cudnn-cu12\n",
            "    Found existing installation: nvidia-cudnn-cu12 9.3.0.75\n",
            "    Uninstalling nvidia-cudnn-cu12-9.3.0.75:\n",
            "      Successfully uninstalled nvidia-cudnn-cu12-9.3.0.75\n",
            "  Attempting uninstall: nvidia-cusolver-cu12\n",
            "    Found existing installation: nvidia-cusolver-cu12 11.6.3.83\n",
            "    Uninstalling nvidia-cusolver-cu12-11.6.3.83:\n",
            "      Successfully uninstalled nvidia-cusolver-cu12-11.6.3.83\n",
            "  Attempting uninstall: torch\n",
            "    Found existing installation: torch 2.6.0+cu124\n",
            "    Uninstalling torch-2.6.0+cu124:\n",
            "      Successfully uninstalled torch-2.6.0+cu124\n",
            "  Attempting uninstall: torchvision\n",
            "    Found existing installation: torchvision 0.21.0+cu124\n",
            "    Uninstalling torchvision-0.21.0+cu124:\n",
            "      Successfully uninstalled torchvision-0.21.0+cu124\n",
            "\u001b[31mERROR: pip's dependency resolver does not currently take into account all the packages that are installed. This behaviour is the source of the following dependency conflicts.\n",
            "numba 0.60.0 requires numpy<2.1,>=1.22, but you have numpy 2.2.1 which is incompatible.\n",
            "tensorflow 2.19.0 requires numpy<2.2.0,>=1.26.0, but you have numpy 2.2.1 which is incompatible.\n",
            "torchaudio 2.6.0+cu124 requires torch==2.6.0, but you have torch 2.7.0 which is incompatible.\n",
            "fastai 2.7.19 requires torch<2.7,>=1.10, but you have torch 2.7.0 which is incompatible.\u001b[0m\u001b[31m\n",
            "\u001b[0mSuccessfully installed appdirs-1.4.4 autoray-0.7.2 diastatic-malt-2.15.2 numpy-2.2.1 nvidia-cublas-cu12-12.6.4.1 nvidia-cuda-cupti-cu12-12.6.80 nvidia-cuda-nvrtc-cu12-12.6.77 nvidia-cuda-runtime-cu12-12.6.77 nvidia-cudnn-cu12-9.5.1.17 nvidia-cufft-cu12-11.3.0.4 nvidia-cufile-cu12-1.11.1.6 nvidia-curand-cu12-10.3.7.77 nvidia-cusolver-cu12-11.7.1.2 nvidia-cusparse-cu12-12.5.4.2 nvidia-cusparselt-cu12-0.6.3 nvidia-nccl-cu12-2.26.2 nvidia-nvjitlink-cu12-12.6.85 nvidia-nvtx-cu12-12.6.77 pennylane-0.42.2 pennylane-lightning-0.42.0 rustworkx-0.16.0 scipy-openblas32-0.3.30.0.2 sympy-1.14.0 torch-2.7.0 torchvision-0.22.0 triton-3.3.0\n"
          ]
        },
        {
          "output_type": "display_data",
          "data": {
            "application/vnd.colab-display-data+json": {
              "pip_warning": {
                "packages": [
                  "numpy",
                  "torch",
                  "torchgen"
                ]
              },
              "id": "067b981d828c47cf9eae2a6c62a821a4"
            }
          },
          "metadata": {}
        },
        {
          "output_type": "stream",
          "name": "stdout",
          "text": [
            "Repo: /content/QLIF-Neurons\n",
            "src on sys.path: True\n"
          ]
        }
      ],
      "execution_count": 37
    },
    {
      "cell_type": "markdown",
      "id": "e6c7d1a0",
      "metadata": {
        "id": "e6c7d1a0"
      },
      "source": [
        "## 1) Imports"
      ]
    },
    {
      "cell_type": "code",
      "id": "94b2ccd5",
      "metadata": {
        "id": "94b2ccd5",
        "colab": {
          "base_uri": "https://localhost:8080/"
        },
        "outputId": "48529198-f91e-4abd-c6fc-725a43f64727"
      },
      "source": [
        "\n",
        "import numpy as np\n",
        "import torch\n",
        "import matplotlib.pyplot as plt\n",
        "\n",
        "try:\n",
        "    from qlif_layers.qlif_layer import QLIFLayer\n",
        "    print(\"Imported QLIFLayer\")\n",
        "except Exception as e:\n",
        "    print(\"QLIFLayer import failed:\", e)\n",
        "\n",
        "try:\n",
        "    from neurons.qlif import QLIF\n",
        "    print(\"Imported QLIF\")\n",
        "except Exception as e:\n",
        "    print(\"QLIF import failed:\", e)\n",
        "\n"
      ],
      "outputs": [
        {
          "output_type": "stream",
          "name": "stdout",
          "text": [
            "QLIFLayer import failed: No module named 'pennylane'\n",
            "QLIF import failed: No module named 'pennylane'\n"
          ]
        }
      ],
      "execution_count": 32
    },
    {
      "cell_type": "markdown",
      "id": "a64d5c2c",
      "metadata": {
        "id": "a64d5c2c"
      },
      "source": [
        "## 2) Helper: Generate an input current (ramp + noise)"
      ]
    },
    {
      "cell_type": "code",
      "id": "d48be8f9",
      "metadata": {
        "id": "d48be8f9"
      },
      "source": [
        "\n",
        "def generate_input(timesteps: int, batch_size: int, num_neurons: int, noise_level: float):\n",
        "    pad_left  = timesteps // 4\n",
        "    ramp_len  = timesteps // 2\n",
        "    pad_right = timesteps - pad_left - ramp_len\n",
        "\n",
        "    ramp = torch.linspace(0, 2, ramp_len).repeat(batch_size, num_neurons, 1).permute(2, 0, 1)\n",
        "    base = torch.cat([\n",
        "        torch.zeros(pad_left,  batch_size, num_neurons),\n",
        "        ramp,\n",
        "        torch.zeros(pad_right, batch_size, num_neurons)\n",
        "    ], dim=0)\n",
        "    noise = torch.randn(timesteps, batch_size, num_neurons) * noise_level\n",
        "    return (base + noise).float()\n"
      ],
      "outputs": [],
      "execution_count": 33
    },
    {
      "cell_type": "markdown",
      "id": "37526f35",
      "metadata": {
        "id": "37526f35"
      },
      "source": [
        "## 3) Minimal simulation (QLIFLayer)"
      ]
    },
    {
      "cell_type": "code",
      "id": "33f6d368",
      "metadata": {
        "id": "33f6d368",
        "colab": {
          "base_uri": "https://localhost:8080/"
        },
        "outputId": "b297e94d-967b-4899-a56a-68ade94b5f93"
      },
      "source": [
        "\n",
        "timesteps = 200\n",
        "noise_level = 0.15\n",
        "\n",
        "# Change this four QLIF parameters here to adjust the input current:\n",
        "batch_size = 1\n",
        "num_neurons = 6\n",
        "device = \"cpu\"  # change to \"cuda\" if you want to use GPU\n",
        "use_quantum = True  # flip to False for classic\n",
        "\n",
        "I = generate_input(timesteps, batch_size, num_neurons, noise_level)\n",
        "ext_mod = None\n",
        "\n",
        "layer_cfg = dict(\n",
        "    num_neurons=num_neurons,\n",
        "    V_th=1.2,\n",
        "    V_reset=0.0,\n",
        "    tau=30.0,\n",
        "    dt=1.0,\n",
        "    eta=0.15,\n",
        "    use_adaptive_threshold=True,\n",
        "    noise_std=0.05,\n",
        "    stochastic=True,\n",
        "    min_threshold=0.5,\n",
        "    max_threshold=2.0,\n",
        "    batch_size=batch_size,\n",
        "    device=device,  # change to \"cuda\" if you want to use GPU\n",
        "    surrogate_gradient_function=\"heaviside\",\n",
        "    alpha=1.0,\n",
        "    allow_dynamic_spike_probability=True,\n",
        "    base_alpha=2.0,\n",
        "    tau_adapt=20.0,\n",
        "    adaptation_decay=0.9,\n",
        "    spike_increase=0.5,\n",
        "    depression_rate=0.1,\n",
        "    recovery_rate=0.05,\n",
        "    neuromod_transform=None,\n",
        "    neuromod_mode=\"gain\",\n",
        "    neuromod_strength=1.0,\n",
        "    learnable_threshold=True,\n",
        "    learnable_tau=False,\n",
        "    learnable_eta=False,\n",
        "    learnable_qscale=True,\n",
        "    learnable_qbias=True,\n",
        "    quantum_mode=use_quantum,\n",
        "    quantum_threshold=0.7,\n",
        "    quantum_leak=0.1,\n",
        "    quantum_wire=4\n",
        ")\n",
        "\n",
        "\n",
        "def run_with_layer():\n",
        "    lif = QLIFLayer(**layer_cfg)\n",
        "    lif.eval()\n",
        "    with torch.no_grad():\n",
        "        s, v = lif(I, ext_mod)\n",
        "    return s.squeeze().cpu().numpy(), v.squeeze().cpu().numpy(), I.squeeze().cpu().numpy()\n",
        "\n",
        "\n",
        "try:\n",
        "    spikes, volts, inp = run_with_layer()\n",
        "    print(\"Ran with QLIFLayer.\")\n",
        "except NameError:\n",
        "    print(\"QLIFLayer not available, will use step-by-step QLIF fallback.\")\n",
        "    spikes = volts = inp = None\n"
      ],
      "outputs": [
        {
          "output_type": "stream",
          "name": "stdout",
          "text": [
            "QLIFLayer not available, will use step-by-step QLIF fallback.\n"
          ]
        }
      ],
      "execution_count": 34
    },
    {
      "cell_type": "code",
      "id": "409016e0",
      "metadata": {
        "id": "409016e0",
        "colab": {
          "base_uri": "https://localhost:8080/",
          "height": 506
        },
        "outputId": "291ef217-b801-492a-e61e-56e159185087"
      },
      "source": [
        "\n",
        "if spikes is None:\n",
        "    from neurons.qlif import QLIF\n",
        "\n",
        "    T, B, N = I.shape\n",
        "    neuron = QLIF(\n",
        "        num_neurons=N,\n",
        "        V_th=1.2, tau=30.0, device=device,\n",
        "        stochastic=True, noise_std=0.05,\n",
        "        use_adaptive_threshold=True,\n",
        "        quantum_mode=use_quantum, quantum_wire=4,\n",
        "        quantum_threshold=0.7, quantum_leak=0.1,\n",
        "    )\n",
        "    neuron.eval()\n",
        "\n",
        "    s_np = np.zeros((T, N), dtype=bool)\n",
        "    v_np = np.zeros((T, N), dtype=np.float32)\n",
        "    with torch.no_grad():\n",
        "        for t in range(T):\n",
        "            s_t = neuron(I[t], None)\n",
        "            s_np[t, :] = s_t.squeeze().cpu().numpy()\n",
        "            v_np[t, :] = neuron.V.squeeze().cpu().numpy()\n",
        "    spikes, volts, inp = s_np, v_np, I.squeeze().cpu().numpy()\n",
        "    print(\"Ran with QLIF step-by-step fallback.\")\n"
      ],
      "outputs": [
        {
          "output_type": "error",
          "ename": "ModuleNotFoundError",
          "evalue": "No module named 'pennylane'",
          "traceback": [
            "\u001b[0;31m---------------------------------------------------------------------------\u001b[0m",
            "\u001b[0;31mModuleNotFoundError\u001b[0m                       Traceback (most recent call last)",
            "\u001b[0;32m/tmp/ipython-input-1235062351.py\u001b[0m in \u001b[0;36m<cell line: 0>\u001b[0;34m()\u001b[0m\n\u001b[1;32m      1\u001b[0m \u001b[0;32mif\u001b[0m \u001b[0mspikes\u001b[0m \u001b[0;32mis\u001b[0m \u001b[0;32mNone\u001b[0m\u001b[0;34m:\u001b[0m\u001b[0;34m\u001b[0m\u001b[0;34m\u001b[0m\u001b[0m\n\u001b[0;32m----> 2\u001b[0;31m     \u001b[0;32mfrom\u001b[0m \u001b[0mneurons\u001b[0m\u001b[0;34m.\u001b[0m\u001b[0mqlif\u001b[0m \u001b[0;32mimport\u001b[0m \u001b[0mQLIF\u001b[0m\u001b[0;34m\u001b[0m\u001b[0;34m\u001b[0m\u001b[0m\n\u001b[0m\u001b[1;32m      3\u001b[0m \u001b[0;34m\u001b[0m\u001b[0m\n\u001b[1;32m      4\u001b[0m     \u001b[0mT\u001b[0m\u001b[0;34m,\u001b[0m \u001b[0mB\u001b[0m\u001b[0;34m,\u001b[0m \u001b[0mN\u001b[0m \u001b[0;34m=\u001b[0m \u001b[0mI\u001b[0m\u001b[0;34m.\u001b[0m\u001b[0mshape\u001b[0m\u001b[0;34m\u001b[0m\u001b[0;34m\u001b[0m\u001b[0m\n\u001b[1;32m      5\u001b[0m     neuron = QLIF(\n",
            "\u001b[0;32m/content/QLIF-Neurons/src/neurons/qlif.py\u001b[0m in \u001b[0;36m<module>\u001b[0;34m\u001b[0m\n\u001b[1;32m      1\u001b[0m \u001b[0;32mimport\u001b[0m \u001b[0mmath\u001b[0m\u001b[0;34m\u001b[0m\u001b[0;34m\u001b[0m\u001b[0m\n\u001b[1;32m      2\u001b[0m \u001b[0;34m\u001b[0m\u001b[0m\n\u001b[0;32m----> 3\u001b[0;31m \u001b[0;32mimport\u001b[0m \u001b[0mpennylane\u001b[0m \u001b[0;32mas\u001b[0m \u001b[0mqml\u001b[0m\u001b[0;34m\u001b[0m\u001b[0;34m\u001b[0m\u001b[0m\n\u001b[0m\u001b[1;32m      4\u001b[0m \u001b[0;32mimport\u001b[0m \u001b[0mtorch\u001b[0m\u001b[0;34m\u001b[0m\u001b[0;34m\u001b[0m\u001b[0m\n\u001b[1;32m      5\u001b[0m \u001b[0;32mimport\u001b[0m \u001b[0mtorch\u001b[0m\u001b[0;34m.\u001b[0m\u001b[0mnn\u001b[0m \u001b[0;32mas\u001b[0m \u001b[0mnn\u001b[0m\u001b[0;34m\u001b[0m\u001b[0;34m\u001b[0m\u001b[0m\n",
            "\u001b[0;31mModuleNotFoundError\u001b[0m: No module named 'pennylane'",
            "",
            "\u001b[0;31m---------------------------------------------------------------------------\u001b[0;32m\nNOTE: If your import is failing due to a missing package, you can\nmanually install dependencies using either !pip or !apt.\n\nTo view examples of installing some common dependencies, click the\n\"Open Examples\" button below.\n\u001b[0;31m---------------------------------------------------------------------------\u001b[0m\n"
          ],
          "errorDetails": {
            "actions": [
              {
                "action": "open_url",
                "actionText": "Open Examples",
                "url": "/notebooks/snippets/importing_libraries.ipynb"
              }
            ]
          }
        }
      ],
      "execution_count": 35
    },
    {
      "cell_type": "markdown",
      "id": "e1a1d15d",
      "metadata": {
        "id": "e1a1d15d"
      },
      "source": [
        "## 4) Plot voltage + spike raster"
      ]
    },
    {
      "cell_type": "code",
      "id": "abfc824e",
      "metadata": {
        "id": "abfc824e"
      },
      "source": [
        "\n",
        "T, N = spikes.shape\n",
        "\n",
        "fig = plt.figure(figsize=(9, 5), dpi=110)\n",
        "gs = fig.add_gridspec(2, 1, height_ratios=[2, 1], hspace=0.3)\n",
        "\n",
        "ax1 = fig.add_subplot(gs[0, 0])\n",
        "ax1.set_title(f\"QLIF ({'Quantum' if use_quantum else 'Classic'}) - V[0] & I[0]\")\n",
        "ax1.set_xlim(0, T)\n",
        "ax1.set_ylim(min(inp.min(), volts.min())-0.3, max(inp.max(), volts.max())+0.3)\n",
        "ax1.plot(np.arange(T), volts[:,0], label='V[0]')\n",
        "ax1.plot(np.arange(T), inp[:,0], '--', alpha=0.6, label='I[0]')\n",
        "ax1.grid(True, alpha=0.25); ax1.legend()\n",
        "\n",
        "ax2 = fig.add_subplot(gs[1, 0])\n",
        "ax2.set_title(\"Spike Grid\")\n",
        "ax2.set_xlim(0, T); ax2.set_ylim(-0.5, N-0.5)\n",
        "t_idx, n_idx = np.where(spikes)\n",
        "ax2.scatter(t_idx, n_idx, marker='|')\n",
        "ax2.set_xlabel(\"t\")\n",
        "ax2.set_yticks(range(N)); ax2.set_yticklabels([f\"n{j}\" for j in range(N)])\n",
        "ax2.grid(True, axis='x', alpha=0.2)\n",
        "plt.show()\n"
      ],
      "outputs": [],
      "execution_count": null
    },
    {
      "cell_type": "markdown",
      "id": "b673f570",
      "metadata": {
        "id": "b673f570"
      },
      "source": [
        "## 5) Optional: Compare with Norse LIF"
      ]
    },
    {
      "cell_type": "code",
      "id": "a909a9f2",
      "metadata": {
        "id": "a909a9f2"
      },
      "source": [
        "\n",
        "def simulate_norse_lif(I, device=\"cpu\"):\n",
        "    try:\n",
        "        from norse.torch.module.lif import LIFCell\n",
        "    except Exception as e:\n",
        "        print(\"Norse not available:\", e)\n",
        "        return None, None\n",
        "\n",
        "    T, B, N = I.shape\n",
        "    lif = LIFCell().to(device)\n",
        "    lif.eval()\n",
        "    s_np = np.zeros((T, N), dtype=bool)\n",
        "    v_np = np.zeros((T, N), dtype=np.float32)\n",
        "    state = None\n",
        "    with torch.no_grad():\n",
        "        for t in range(T):\n",
        "            z, state = lif(I[t].to(device), state)\n",
        "            v = getattr(state, \"v\", None)\n",
        "            s_np[t, :] = (z.squeeze().cpu().numpy() > 0.0)\n",
        "            v_np[t, :] = 0.0 if v is None else v.squeeze().cpu().numpy()\n",
        "    return s_np, v_np\n",
        "\n",
        "n_spikes, n_volts = simulate_norse_lif(I, device=device)\n",
        "if n_spikes is not None:\n",
        "    fig = plt.figure(figsize=(9, 6), dpi=110)\n",
        "    gs = fig.add_gridspec(2, 1, height_ratios=[2, 1], hspace=0.3)\n",
        "\n",
        "    ax1 = fig.add_subplot(gs[0, 0])\n",
        "    ax1.set_title(\"Norse LIF - V[0] & I[0]\")\n",
        "    ax1.set_xlim(0, T)\n",
        "    ax1.set_ylim(min(inp.min(), n_volts.min())-0.3, max(inp.max(), n_volts.max())+0.3)\n",
        "    ax1.plot(np.arange(T), n_volts[:,0], label='V[0]')\n",
        "    ax1.plot(np.arange(T), inp[:,0], '--', alpha=0.6, label='I[0]')\n",
        "    ax1.grid(True, alpha=0.25); ax1.legend()\n",
        "\n",
        "    ax2 = fig.add_subplot(gs[1, 0])\n",
        "    ax2.set_title(\"Norse Spike Grid\")\n",
        "    ax2.set_xlim(0, T); ax2.set_ylim(-0.5, N-0.5)\n",
        "    t_idx, n_idx = np.where(n_spikes)\n",
        "    ax2.scatter(t_idx, n_idx, marker='|')\n",
        "    ax2.set_xlabel(\"t\")\n",
        "    ax2.set_yticks(range(N)); ax2.set_yticklabels([f\"n{j}\" for j in range(N)])\n",
        "    ax2.grid(True, axis='x', alpha=0.2)\n",
        "    plt.show()\n",
        "else:\n",
        "    print(\"Skip Norse comparison (not installed).\")\n"
      ],
      "outputs": [],
      "execution_count": null
    }
  ],
  "metadata": {
    "colab": {
      "provenance": [],
      "include_colab_link": true
    },
    "language_info": {
      "name": "python"
    },
    "kernelspec": {
      "name": "python3",
      "display_name": "Python 3"
    }
  },
  "nbformat": 4,
  "nbformat_minor": 5
}